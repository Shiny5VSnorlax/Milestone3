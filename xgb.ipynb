{
 "cells": [
  {
   "cell_type": "code",
   "execution_count": 47,
   "id": "7a773535",
   "metadata": {},
   "outputs": [],
   "source": [
    "import pandas as pd\n",
    "import numpy as np\n",
    "import xgboost as xgb\n",
    "from xgboost.sklearn import XGBClassifier\n",
    "from sklearn.model_selection import KFold,cross_validate,cross_val_score,cross_val_predict\n",
    "from sklearn.model_selection import GridSearchCV\n",
    "import numpy as np  \n",
    "import xgboost as xgb  \n",
    "import pandas as pd\n",
    "from sklearn.model_selection import train_test_split\n",
    "from scipy.stats.mstats import winsorize"
   ]
  },
  {
   "cell_type": "markdown",
   "id": "6e44f695",
   "metadata": {},
   "source": [
    "# Preprocessing"
   ]
  },
  {
   "cell_type": "code",
   "execution_count": 66,
   "id": "819eee62",
   "metadata": {},
   "outputs": [],
   "source": [
    "def missingvalues(train_data):\n",
    "    count_na = []\n",
    "    for col in train_data.columns:\n",
    "        count_na.append(train_data[col].isna().sum().item())\n",
    "    a = 0\n",
    "    for i in range(len(count_na)):\n",
    "        if count_na[i] != 0:\n",
    "            print(\"missing data found in %s\"%train_data.columns[i])\n",
    "            a = a+1\n",
    "    if a == 0:\n",
    "        print(\"no missing values found\")"
   ]
  },
  {
   "cell_type": "code",
   "execution_count": 225,
   "id": "3931a074",
   "metadata": {},
   "outputs": [
    {
     "data": {
      "text/html": [
       "<div>\n",
       "<style scoped>\n",
       "    .dataframe tbody tr th:only-of-type {\n",
       "        vertical-align: middle;\n",
       "    }\n",
       "\n",
       "    .dataframe tbody tr th {\n",
       "        vertical-align: top;\n",
       "    }\n",
       "\n",
       "    .dataframe thead th {\n",
       "        text-align: right;\n",
       "    }\n",
       "</style>\n",
       "<table border=\"1\" class=\"dataframe\">\n",
       "  <thead>\n",
       "    <tr style=\"text-align: right;\">\n",
       "      <th></th>\n",
       "      <th>Unnamed: 0</th>\n",
       "      <th>m</th>\n",
       "      <th>n</th>\n",
       "      <th>absoluate_roll</th>\n",
       "      <th>time1</th>\n",
       "      <th>time2</th>\n",
       "      <th>time3</th>\n",
       "      <th>time4</th>\n",
       "      <th>time5</th>\n",
       "      <th>time6</th>\n",
       "      <th>time7</th>\n",
       "      <th>time8</th>\n",
       "      <th>time9</th>\n",
       "      <th>time10</th>\n",
       "      <th>time11</th>\n",
       "      <th>time12</th>\n",
       "      <th>time13</th>\n",
       "    </tr>\n",
       "  </thead>\n",
       "  <tbody>\n",
       "    <tr>\n",
       "      <th>0</th>\n",
       "      <td>0</td>\n",
       "      <td>1.127497</td>\n",
       "      <td>0.03</td>\n",
       "      <td>-9</td>\n",
       "      <td>0.053</td>\n",
       "      <td>0.053</td>\n",
       "      <td>0.053</td>\n",
       "      <td>0.053</td>\n",
       "      <td>0.053</td>\n",
       "      <td>0.051</td>\n",
       "      <td>0.051</td>\n",
       "      <td>0.050</td>\n",
       "      <td>0.050</td>\n",
       "      <td>0.050</td>\n",
       "      <td>0.100</td>\n",
       "      <td>0.050</td>\n",
       "      <td>0.050</td>\n",
       "    </tr>\n",
       "    <tr>\n",
       "      <th>1</th>\n",
       "      <td>1</td>\n",
       "      <td>1.363425</td>\n",
       "      <td>-0.10</td>\n",
       "      <td>-12</td>\n",
       "      <td>0.016</td>\n",
       "      <td>0.016</td>\n",
       "      <td>0.016</td>\n",
       "      <td>0.016</td>\n",
       "      <td>0.016</td>\n",
       "      <td>0.016</td>\n",
       "      <td>0.016</td>\n",
       "      <td>0.016</td>\n",
       "      <td>0.016</td>\n",
       "      <td>0.016</td>\n",
       "      <td>0.032</td>\n",
       "      <td>0.016</td>\n",
       "      <td>0.016</td>\n",
       "    </tr>\n",
       "    <tr>\n",
       "      <th>2</th>\n",
       "      <td>2</td>\n",
       "      <td>0.794534</td>\n",
       "      <td>0.12</td>\n",
       "      <td>-6</td>\n",
       "      <td>0.019</td>\n",
       "      <td>0.019</td>\n",
       "      <td>0.019</td>\n",
       "      <td>0.019</td>\n",
       "      <td>0.019</td>\n",
       "      <td>0.019</td>\n",
       "      <td>0.019</td>\n",
       "      <td>0.019</td>\n",
       "      <td>0.019</td>\n",
       "      <td>0.019</td>\n",
       "      <td>0.038</td>\n",
       "      <td>0.019</td>\n",
       "      <td>0.019</td>\n",
       "    </tr>\n",
       "    <tr>\n",
       "      <th>3</th>\n",
       "      <td>3</td>\n",
       "      <td>0.697676</td>\n",
       "      <td>-0.13</td>\n",
       "      <td>-7</td>\n",
       "      <td>0.014</td>\n",
       "      <td>0.014</td>\n",
       "      <td>0.014</td>\n",
       "      <td>0.014</td>\n",
       "      <td>0.014</td>\n",
       "      <td>0.014</td>\n",
       "      <td>0.014</td>\n",
       "      <td>0.015</td>\n",
       "      <td>0.015</td>\n",
       "      <td>0.015</td>\n",
       "      <td>0.030</td>\n",
       "      <td>0.015</td>\n",
       "      <td>0.015</td>\n",
       "    </tr>\n",
       "    <tr>\n",
       "      <th>4</th>\n",
       "      <td>4</td>\n",
       "      <td>1.127497</td>\n",
       "      <td>0.18</td>\n",
       "      <td>-18</td>\n",
       "      <td>0.030</td>\n",
       "      <td>0.030</td>\n",
       "      <td>0.030</td>\n",
       "      <td>0.030</td>\n",
       "      <td>0.030</td>\n",
       "      <td>0.030</td>\n",
       "      <td>0.030</td>\n",
       "      <td>0.030</td>\n",
       "      <td>0.030</td>\n",
       "      <td>0.030</td>\n",
       "      <td>0.060</td>\n",
       "      <td>0.030</td>\n",
       "      <td>0.030</td>\n",
       "    </tr>\n",
       "    <tr>\n",
       "      <th>...</th>\n",
       "      <td>...</td>\n",
       "      <td>...</td>\n",
       "      <td>...</td>\n",
       "      <td>...</td>\n",
       "      <td>...</td>\n",
       "      <td>...</td>\n",
       "      <td>...</td>\n",
       "      <td>...</td>\n",
       "      <td>...</td>\n",
       "      <td>...</td>\n",
       "      <td>...</td>\n",
       "      <td>...</td>\n",
       "      <td>...</td>\n",
       "      <td>...</td>\n",
       "      <td>...</td>\n",
       "      <td>...</td>\n",
       "      <td>...</td>\n",
       "    </tr>\n",
       "    <tr>\n",
       "      <th>8245</th>\n",
       "      <td>8245</td>\n",
       "      <td>0.886920</td>\n",
       "      <td>-0.21</td>\n",
       "      <td>-6</td>\n",
       "      <td>0.018</td>\n",
       "      <td>0.015</td>\n",
       "      <td>0.015</td>\n",
       "      <td>0.015</td>\n",
       "      <td>0.015</td>\n",
       "      <td>0.015</td>\n",
       "      <td>0.015</td>\n",
       "      <td>0.015</td>\n",
       "      <td>0.015</td>\n",
       "      <td>0.015</td>\n",
       "      <td>0.030</td>\n",
       "      <td>0.015</td>\n",
       "      <td>0.015</td>\n",
       "    </tr>\n",
       "    <tr>\n",
       "      <th>8246</th>\n",
       "      <td>8246</td>\n",
       "      <td>1.185305</td>\n",
       "      <td>0.01</td>\n",
       "      <td>-5</td>\n",
       "      <td>0.017</td>\n",
       "      <td>0.017</td>\n",
       "      <td>0.017</td>\n",
       "      <td>0.017</td>\n",
       "      <td>0.017</td>\n",
       "      <td>0.017</td>\n",
       "      <td>0.017</td>\n",
       "      <td>0.017</td>\n",
       "      <td>0.017</td>\n",
       "      <td>0.017</td>\n",
       "      <td>0.034</td>\n",
       "      <td>0.017</td>\n",
       "      <td>0.017</td>\n",
       "    </tr>\n",
       "    <tr>\n",
       "      <th>8247</th>\n",
       "      <td>8247</td>\n",
       "      <td>0.852144</td>\n",
       "      <td>0.26</td>\n",
       "      <td>-9</td>\n",
       "      <td>0.024</td>\n",
       "      <td>0.024</td>\n",
       "      <td>0.024</td>\n",
       "      <td>0.024</td>\n",
       "      <td>0.024</td>\n",
       "      <td>0.024</td>\n",
       "      <td>0.024</td>\n",
       "      <td>0.024</td>\n",
       "      <td>0.024</td>\n",
       "      <td>0.024</td>\n",
       "      <td>0.048</td>\n",
       "      <td>0.024</td>\n",
       "      <td>0.024</td>\n",
       "    </tr>\n",
       "    <tr>\n",
       "      <th>8248</th>\n",
       "      <td>8248</td>\n",
       "      <td>0.913931</td>\n",
       "      <td>0.02</td>\n",
       "      <td>-12</td>\n",
       "      <td>0.022</td>\n",
       "      <td>0.022</td>\n",
       "      <td>0.022</td>\n",
       "      <td>0.022</td>\n",
       "      <td>0.022</td>\n",
       "      <td>0.022</td>\n",
       "      <td>0.022</td>\n",
       "      <td>0.021</td>\n",
       "      <td>0.021</td>\n",
       "      <td>0.021</td>\n",
       "      <td>0.042</td>\n",
       "      <td>0.018</td>\n",
       "      <td>0.018</td>\n",
       "    </tr>\n",
       "    <tr>\n",
       "      <th>8249</th>\n",
       "      <td>8249</td>\n",
       "      <td>1.419068</td>\n",
       "      <td>0.22</td>\n",
       "      <td>-15</td>\n",
       "      <td>0.023</td>\n",
       "      <td>0.023</td>\n",
       "      <td>0.023</td>\n",
       "      <td>0.023</td>\n",
       "      <td>0.023</td>\n",
       "      <td>0.023</td>\n",
       "      <td>0.023</td>\n",
       "      <td>0.023</td>\n",
       "      <td>0.023</td>\n",
       "      <td>0.023</td>\n",
       "      <td>0.046</td>\n",
       "      <td>0.023</td>\n",
       "      <td>0.023</td>\n",
       "    </tr>\n",
       "  </tbody>\n",
       "</table>\n",
       "<p>8250 rows × 17 columns</p>\n",
       "</div>"
      ],
      "text/plain": [
       "      Unnamed: 0         m     n  absoluate_roll  time1  time2  time3  time4  \\\n",
       "0              0  1.127497  0.03              -9  0.053  0.053  0.053  0.053   \n",
       "1              1  1.363425 -0.10             -12  0.016  0.016  0.016  0.016   \n",
       "2              2  0.794534  0.12              -6  0.019  0.019  0.019  0.019   \n",
       "3              3  0.697676 -0.13              -7  0.014  0.014  0.014  0.014   \n",
       "4              4  1.127497  0.18             -18  0.030  0.030  0.030  0.030   \n",
       "...          ...       ...   ...             ...    ...    ...    ...    ...   \n",
       "8245        8245  0.886920 -0.21              -6  0.018  0.015  0.015  0.015   \n",
       "8246        8246  1.185305  0.01              -5  0.017  0.017  0.017  0.017   \n",
       "8247        8247  0.852144  0.26              -9  0.024  0.024  0.024  0.024   \n",
       "8248        8248  0.913931  0.02             -12  0.022  0.022  0.022  0.022   \n",
       "8249        8249  1.419068  0.22             -15  0.023  0.023  0.023  0.023   \n",
       "\n",
       "      time5  time6  time7  time8  time9  time10  time11  time12  time13  \n",
       "0     0.053  0.051  0.051  0.050  0.050   0.050   0.100   0.050   0.050  \n",
       "1     0.016  0.016  0.016  0.016  0.016   0.016   0.032   0.016   0.016  \n",
       "2     0.019  0.019  0.019  0.019  0.019   0.019   0.038   0.019   0.019  \n",
       "3     0.014  0.014  0.014  0.015  0.015   0.015   0.030   0.015   0.015  \n",
       "4     0.030  0.030  0.030  0.030  0.030   0.030   0.060   0.030   0.030  \n",
       "...     ...    ...    ...    ...    ...     ...     ...     ...     ...  \n",
       "8245  0.015  0.015  0.015  0.015  0.015   0.015   0.030   0.015   0.015  \n",
       "8246  0.017  0.017  0.017  0.017  0.017   0.017   0.034   0.017   0.017  \n",
       "8247  0.024  0.024  0.024  0.024  0.024   0.024   0.048   0.024   0.024  \n",
       "8248  0.022  0.022  0.022  0.021  0.021   0.021   0.042   0.018   0.018  \n",
       "8249  0.023  0.023  0.023  0.023  0.023   0.023   0.046   0.023   0.023  \n",
       "\n",
       "[8250 rows x 17 columns]"
      ]
     },
     "execution_count": 225,
     "metadata": {},
     "output_type": "execute_result"
    }
   ],
   "source": [
    "dropdata = pd.read_csv('dropdata.csv')\n",
    "droptest = pd.read_csv('droptest.csv')\n",
    "\n",
    "dropx = dropdata.iloc[:,:-1]\n",
    "\n",
    "dropy = dropdata.iloc[:,-1]\n"
   ]
  },
  {
   "cell_type": "code",
   "execution_count": 247,
   "id": "196daa84",
   "metadata": {},
   "outputs": [],
   "source": [
    "droptest = droptest.drop(['Id'],axis = 1)\n",
    "dropx = dropx.drop(['Unnamed: 0'],axis = 1)"
   ]
  },
  {
   "cell_type": "code",
   "execution_count": 248,
   "id": "ab390b89",
   "metadata": {},
   "outputs": [
    {
     "data": {
      "text/html": [
       "<div>\n",
       "<style scoped>\n",
       "    .dataframe tbody tr th:only-of-type {\n",
       "        vertical-align: middle;\n",
       "    }\n",
       "\n",
       "    .dataframe tbody tr th {\n",
       "        vertical-align: top;\n",
       "    }\n",
       "\n",
       "    .dataframe thead th {\n",
       "        text-align: right;\n",
       "    }\n",
       "</style>\n",
       "<table border=\"1\" class=\"dataframe\">\n",
       "  <thead>\n",
       "    <tr style=\"text-align: right;\">\n",
       "      <th></th>\n",
       "      <th>m</th>\n",
       "      <th>n</th>\n",
       "      <th>absoluate_roll</th>\n",
       "      <th>time1</th>\n",
       "      <th>time2</th>\n",
       "      <th>time3</th>\n",
       "      <th>time4</th>\n",
       "      <th>time5</th>\n",
       "      <th>time6</th>\n",
       "      <th>time7</th>\n",
       "      <th>time8</th>\n",
       "      <th>time9</th>\n",
       "      <th>time10</th>\n",
       "      <th>time11</th>\n",
       "      <th>time12</th>\n",
       "      <th>time13</th>\n",
       "    </tr>\n",
       "  </thead>\n",
       "  <tbody>\n",
       "    <tr>\n",
       "      <th>0</th>\n",
       "      <td>1.363425</td>\n",
       "      <td>0.06</td>\n",
       "      <td>-11</td>\n",
       "      <td>0.038</td>\n",
       "      <td>0.038</td>\n",
       "      <td>0.038</td>\n",
       "      <td>0.038</td>\n",
       "      <td>0.038</td>\n",
       "      <td>0.038</td>\n",
       "      <td>0.038</td>\n",
       "      <td>0.038</td>\n",
       "      <td>0.038</td>\n",
       "      <td>0.038</td>\n",
       "      <td>0.076</td>\n",
       "      <td>0.038</td>\n",
       "      <td>0.038</td>\n",
       "    </tr>\n",
       "    <tr>\n",
       "      <th>1</th>\n",
       "      <td>0.718924</td>\n",
       "      <td>0.00</td>\n",
       "      <td>-7</td>\n",
       "      <td>0.017</td>\n",
       "      <td>0.017</td>\n",
       "      <td>0.017</td>\n",
       "      <td>0.017</td>\n",
       "      <td>0.017</td>\n",
       "      <td>0.017</td>\n",
       "      <td>0.017</td>\n",
       "      <td>0.018</td>\n",
       "      <td>0.018</td>\n",
       "      <td>0.017</td>\n",
       "      <td>0.034</td>\n",
       "      <td>0.017</td>\n",
       "      <td>0.017</td>\n",
       "    </tr>\n",
       "    <tr>\n",
       "      <th>2</th>\n",
       "      <td>1.390968</td>\n",
       "      <td>0.13</td>\n",
       "      <td>-6</td>\n",
       "      <td>0.015</td>\n",
       "      <td>0.015</td>\n",
       "      <td>0.015</td>\n",
       "      <td>0.016</td>\n",
       "      <td>0.016</td>\n",
       "      <td>0.017</td>\n",
       "      <td>0.017</td>\n",
       "      <td>0.019</td>\n",
       "      <td>0.019</td>\n",
       "      <td>0.020</td>\n",
       "      <td>0.040</td>\n",
       "      <td>0.020</td>\n",
       "      <td>0.020</td>\n",
       "    </tr>\n",
       "    <tr>\n",
       "      <th>3</th>\n",
       "      <td>1.072508</td>\n",
       "      <td>0.04</td>\n",
       "      <td>-7</td>\n",
       "      <td>0.018</td>\n",
       "      <td>0.018</td>\n",
       "      <td>0.018</td>\n",
       "      <td>0.018</td>\n",
       "      <td>0.018</td>\n",
       "      <td>0.018</td>\n",
       "      <td>0.018</td>\n",
       "      <td>0.018</td>\n",
       "      <td>0.018</td>\n",
       "      <td>0.018</td>\n",
       "      <td>0.036</td>\n",
       "      <td>0.018</td>\n",
       "      <td>0.018</td>\n",
       "    </tr>\n",
       "    <tr>\n",
       "      <th>4</th>\n",
       "      <td>0.980199</td>\n",
       "      <td>0.20</td>\n",
       "      <td>-20</td>\n",
       "      <td>0.027</td>\n",
       "      <td>0.027</td>\n",
       "      <td>0.027</td>\n",
       "      <td>0.027</td>\n",
       "      <td>0.027</td>\n",
       "      <td>0.027</td>\n",
       "      <td>0.027</td>\n",
       "      <td>0.027</td>\n",
       "      <td>0.027</td>\n",
       "      <td>0.027</td>\n",
       "      <td>0.054</td>\n",
       "      <td>0.027</td>\n",
       "      <td>0.027</td>\n",
       "    </tr>\n",
       "    <tr>\n",
       "      <th>...</th>\n",
       "      <td>...</td>\n",
       "      <td>...</td>\n",
       "      <td>...</td>\n",
       "      <td>...</td>\n",
       "      <td>...</td>\n",
       "      <td>...</td>\n",
       "      <td>...</td>\n",
       "      <td>...</td>\n",
       "      <td>...</td>\n",
       "      <td>...</td>\n",
       "      <td>...</td>\n",
       "      <td>...</td>\n",
       "      <td>...</td>\n",
       "      <td>...</td>\n",
       "      <td>...</td>\n",
       "      <td>...</td>\n",
       "    </tr>\n",
       "    <tr>\n",
       "      <th>5495</th>\n",
       "      <td>0.941765</td>\n",
       "      <td>-0.15</td>\n",
       "      <td>-7</td>\n",
       "      <td>0.027</td>\n",
       "      <td>0.027</td>\n",
       "      <td>0.027</td>\n",
       "      <td>0.027</td>\n",
       "      <td>0.027</td>\n",
       "      <td>0.027</td>\n",
       "      <td>0.027</td>\n",
       "      <td>0.027</td>\n",
       "      <td>0.027</td>\n",
       "      <td>0.026</td>\n",
       "      <td>0.052</td>\n",
       "      <td>0.026</td>\n",
       "      <td>0.026</td>\n",
       "    </tr>\n",
       "    <tr>\n",
       "      <th>5496</th>\n",
       "      <td>1.061837</td>\n",
       "      <td>-0.05</td>\n",
       "      <td>-13</td>\n",
       "      <td>0.019</td>\n",
       "      <td>0.019</td>\n",
       "      <td>0.019</td>\n",
       "      <td>0.019</td>\n",
       "      <td>0.019</td>\n",
       "      <td>0.019</td>\n",
       "      <td>0.019</td>\n",
       "      <td>0.019</td>\n",
       "      <td>0.019</td>\n",
       "      <td>0.019</td>\n",
       "      <td>0.038</td>\n",
       "      <td>0.019</td>\n",
       "      <td>0.019</td>\n",
       "    </tr>\n",
       "    <tr>\n",
       "      <th>5497</th>\n",
       "      <td>0.612626</td>\n",
       "      <td>0.08</td>\n",
       "      <td>-10</td>\n",
       "      <td>0.017</td>\n",
       "      <td>0.017</td>\n",
       "      <td>0.017</td>\n",
       "      <td>0.017</td>\n",
       "      <td>0.017</td>\n",
       "      <td>0.017</td>\n",
       "      <td>0.017</td>\n",
       "      <td>0.018</td>\n",
       "      <td>0.018</td>\n",
       "      <td>0.018</td>\n",
       "      <td>0.036</td>\n",
       "      <td>0.018</td>\n",
       "      <td>0.018</td>\n",
       "    </tr>\n",
       "    <tr>\n",
       "      <th>5498</th>\n",
       "      <td>0.923116</td>\n",
       "      <td>0.08</td>\n",
       "      <td>-11</td>\n",
       "      <td>0.020</td>\n",
       "      <td>0.020</td>\n",
       "      <td>0.020</td>\n",
       "      <td>0.020</td>\n",
       "      <td>0.020</td>\n",
       "      <td>0.020</td>\n",
       "      <td>0.020</td>\n",
       "      <td>0.020</td>\n",
       "      <td>0.020</td>\n",
       "      <td>0.020</td>\n",
       "      <td>0.040</td>\n",
       "      <td>0.020</td>\n",
       "      <td>0.020</td>\n",
       "    </tr>\n",
       "    <tr>\n",
       "      <th>5499</th>\n",
       "      <td>0.990050</td>\n",
       "      <td>0.10</td>\n",
       "      <td>-9</td>\n",
       "      <td>0.017</td>\n",
       "      <td>0.017</td>\n",
       "      <td>0.017</td>\n",
       "      <td>0.017</td>\n",
       "      <td>0.017</td>\n",
       "      <td>0.017</td>\n",
       "      <td>0.017</td>\n",
       "      <td>0.017</td>\n",
       "      <td>0.017</td>\n",
       "      <td>0.017</td>\n",
       "      <td>0.034</td>\n",
       "      <td>0.017</td>\n",
       "      <td>0.017</td>\n",
       "    </tr>\n",
       "  </tbody>\n",
       "</table>\n",
       "<p>5500 rows × 16 columns</p>\n",
       "</div>"
      ],
      "text/plain": [
       "             m     n  absoluate_roll  time1  time2  time3  time4  time5  \\\n",
       "0     1.363425  0.06             -11  0.038  0.038  0.038  0.038  0.038   \n",
       "1     0.718924  0.00              -7  0.017  0.017  0.017  0.017  0.017   \n",
       "2     1.390968  0.13              -6  0.015  0.015  0.015  0.016  0.016   \n",
       "3     1.072508  0.04              -7  0.018  0.018  0.018  0.018  0.018   \n",
       "4     0.980199  0.20             -20  0.027  0.027  0.027  0.027  0.027   \n",
       "...        ...   ...             ...    ...    ...    ...    ...    ...   \n",
       "5495  0.941765 -0.15              -7  0.027  0.027  0.027  0.027  0.027   \n",
       "5496  1.061837 -0.05             -13  0.019  0.019  0.019  0.019  0.019   \n",
       "5497  0.612626  0.08             -10  0.017  0.017  0.017  0.017  0.017   \n",
       "5498  0.923116  0.08             -11  0.020  0.020  0.020  0.020  0.020   \n",
       "5499  0.990050  0.10              -9  0.017  0.017  0.017  0.017  0.017   \n",
       "\n",
       "      time6  time7  time8  time9  time10  time11  time12  time13  \n",
       "0     0.038  0.038  0.038  0.038   0.038   0.076   0.038   0.038  \n",
       "1     0.017  0.017  0.018  0.018   0.017   0.034   0.017   0.017  \n",
       "2     0.017  0.017  0.019  0.019   0.020   0.040   0.020   0.020  \n",
       "3     0.018  0.018  0.018  0.018   0.018   0.036   0.018   0.018  \n",
       "4     0.027  0.027  0.027  0.027   0.027   0.054   0.027   0.027  \n",
       "...     ...    ...    ...    ...     ...     ...     ...     ...  \n",
       "5495  0.027  0.027  0.027  0.027   0.026   0.052   0.026   0.026  \n",
       "5496  0.019  0.019  0.019  0.019   0.019   0.038   0.019   0.019  \n",
       "5497  0.017  0.017  0.018  0.018   0.018   0.036   0.018   0.018  \n",
       "5498  0.020  0.020  0.020  0.020   0.020   0.040   0.020   0.020  \n",
       "5499  0.017  0.017  0.017  0.017   0.017   0.034   0.017   0.017  \n",
       "\n",
       "[5500 rows x 16 columns]"
      ]
     },
     "execution_count": 248,
     "metadata": {},
     "output_type": "execute_result"
    }
   ],
   "source": [
    "#droptest = pd.read_csv('droptest.csv')\n",
    "droptest"
   ]
  },
  {
   "cell_type": "code",
   "execution_count": 227,
   "id": "dcc27817",
   "metadata": {},
   "outputs": [
    {
     "ename": "KeyError",
     "evalue": "\"['Unnamed: 0'] not found in axis\"",
     "output_type": "error",
     "traceback": [
      "\u001b[1;31m---------------------------------------------------------------------------\u001b[0m",
      "\u001b[1;31mKeyError\u001b[0m                                  Traceback (most recent call last)",
      "\u001b[1;32m~\\AppData\\Local\\Temp/ipykernel_31376/3267835220.py\u001b[0m in \u001b[0;36m<module>\u001b[1;34m\u001b[0m\n\u001b[1;32m----> 1\u001b[1;33m \u001b[0mdropx\u001b[0m \u001b[1;33m=\u001b[0m \u001b[0mdropx\u001b[0m\u001b[1;33m.\u001b[0m\u001b[0mdrop\u001b[0m\u001b[1;33m(\u001b[0m\u001b[1;33m[\u001b[0m\u001b[1;34m'Unnamed: 0'\u001b[0m\u001b[1;33m]\u001b[0m\u001b[1;33m,\u001b[0m\u001b[0maxis\u001b[0m \u001b[1;33m=\u001b[0m \u001b[1;36m1\u001b[0m\u001b[1;33m)\u001b[0m\u001b[1;33m\u001b[0m\u001b[1;33m\u001b[0m\u001b[0m\n\u001b[0m\u001b[0;32m      2\u001b[0m \u001b[0mdropx\u001b[0m\u001b[1;33m\u001b[0m\u001b[1;33m\u001b[0m\u001b[0m\n",
      "\u001b[1;32m~\\anaconda3\\lib\\site-packages\\pandas\\util\\_decorators.py\u001b[0m in \u001b[0;36mwrapper\u001b[1;34m(*args, **kwargs)\u001b[0m\n\u001b[0;32m    309\u001b[0m                     \u001b[0mstacklevel\u001b[0m\u001b[1;33m=\u001b[0m\u001b[0mstacklevel\u001b[0m\u001b[1;33m,\u001b[0m\u001b[1;33m\u001b[0m\u001b[1;33m\u001b[0m\u001b[0m\n\u001b[0;32m    310\u001b[0m                 )\n\u001b[1;32m--> 311\u001b[1;33m             \u001b[1;32mreturn\u001b[0m \u001b[0mfunc\u001b[0m\u001b[1;33m(\u001b[0m\u001b[1;33m*\u001b[0m\u001b[0margs\u001b[0m\u001b[1;33m,\u001b[0m \u001b[1;33m**\u001b[0m\u001b[0mkwargs\u001b[0m\u001b[1;33m)\u001b[0m\u001b[1;33m\u001b[0m\u001b[1;33m\u001b[0m\u001b[0m\n\u001b[0m\u001b[0;32m    312\u001b[0m \u001b[1;33m\u001b[0m\u001b[0m\n\u001b[0;32m    313\u001b[0m         \u001b[1;32mreturn\u001b[0m \u001b[0mwrapper\u001b[0m\u001b[1;33m\u001b[0m\u001b[1;33m\u001b[0m\u001b[0m\n",
      "\u001b[1;32m~\\anaconda3\\lib\\site-packages\\pandas\\core\\frame.py\u001b[0m in \u001b[0;36mdrop\u001b[1;34m(self, labels, axis, index, columns, level, inplace, errors)\u001b[0m\n\u001b[0;32m   4904\u001b[0m                 \u001b[0mweight\u001b[0m  \u001b[1;36m1.0\u001b[0m     \u001b[1;36m0.8\u001b[0m\u001b[1;33m\u001b[0m\u001b[1;33m\u001b[0m\u001b[0m\n\u001b[0;32m   4905\u001b[0m         \"\"\"\n\u001b[1;32m-> 4906\u001b[1;33m         return super().drop(\n\u001b[0m\u001b[0;32m   4907\u001b[0m             \u001b[0mlabels\u001b[0m\u001b[1;33m=\u001b[0m\u001b[0mlabels\u001b[0m\u001b[1;33m,\u001b[0m\u001b[1;33m\u001b[0m\u001b[1;33m\u001b[0m\u001b[0m\n\u001b[0;32m   4908\u001b[0m             \u001b[0maxis\u001b[0m\u001b[1;33m=\u001b[0m\u001b[0maxis\u001b[0m\u001b[1;33m,\u001b[0m\u001b[1;33m\u001b[0m\u001b[1;33m\u001b[0m\u001b[0m\n",
      "\u001b[1;32m~\\anaconda3\\lib\\site-packages\\pandas\\core\\generic.py\u001b[0m in \u001b[0;36mdrop\u001b[1;34m(self, labels, axis, index, columns, level, inplace, errors)\u001b[0m\n\u001b[0;32m   4148\u001b[0m         \u001b[1;32mfor\u001b[0m \u001b[0maxis\u001b[0m\u001b[1;33m,\u001b[0m \u001b[0mlabels\u001b[0m \u001b[1;32min\u001b[0m \u001b[0maxes\u001b[0m\u001b[1;33m.\u001b[0m\u001b[0mitems\u001b[0m\u001b[1;33m(\u001b[0m\u001b[1;33m)\u001b[0m\u001b[1;33m:\u001b[0m\u001b[1;33m\u001b[0m\u001b[1;33m\u001b[0m\u001b[0m\n\u001b[0;32m   4149\u001b[0m             \u001b[1;32mif\u001b[0m \u001b[0mlabels\u001b[0m \u001b[1;32mis\u001b[0m \u001b[1;32mnot\u001b[0m \u001b[1;32mNone\u001b[0m\u001b[1;33m:\u001b[0m\u001b[1;33m\u001b[0m\u001b[1;33m\u001b[0m\u001b[0m\n\u001b[1;32m-> 4150\u001b[1;33m                 \u001b[0mobj\u001b[0m \u001b[1;33m=\u001b[0m \u001b[0mobj\u001b[0m\u001b[1;33m.\u001b[0m\u001b[0m_drop_axis\u001b[0m\u001b[1;33m(\u001b[0m\u001b[0mlabels\u001b[0m\u001b[1;33m,\u001b[0m \u001b[0maxis\u001b[0m\u001b[1;33m,\u001b[0m \u001b[0mlevel\u001b[0m\u001b[1;33m=\u001b[0m\u001b[0mlevel\u001b[0m\u001b[1;33m,\u001b[0m \u001b[0merrors\u001b[0m\u001b[1;33m=\u001b[0m\u001b[0merrors\u001b[0m\u001b[1;33m)\u001b[0m\u001b[1;33m\u001b[0m\u001b[1;33m\u001b[0m\u001b[0m\n\u001b[0m\u001b[0;32m   4151\u001b[0m \u001b[1;33m\u001b[0m\u001b[0m\n\u001b[0;32m   4152\u001b[0m         \u001b[1;32mif\u001b[0m \u001b[0minplace\u001b[0m\u001b[1;33m:\u001b[0m\u001b[1;33m\u001b[0m\u001b[1;33m\u001b[0m\u001b[0m\n",
      "\u001b[1;32m~\\anaconda3\\lib\\site-packages\\pandas\\core\\generic.py\u001b[0m in \u001b[0;36m_drop_axis\u001b[1;34m(self, labels, axis, level, errors)\u001b[0m\n\u001b[0;32m   4183\u001b[0m                 \u001b[0mnew_axis\u001b[0m \u001b[1;33m=\u001b[0m \u001b[0maxis\u001b[0m\u001b[1;33m.\u001b[0m\u001b[0mdrop\u001b[0m\u001b[1;33m(\u001b[0m\u001b[0mlabels\u001b[0m\u001b[1;33m,\u001b[0m \u001b[0mlevel\u001b[0m\u001b[1;33m=\u001b[0m\u001b[0mlevel\u001b[0m\u001b[1;33m,\u001b[0m \u001b[0merrors\u001b[0m\u001b[1;33m=\u001b[0m\u001b[0merrors\u001b[0m\u001b[1;33m)\u001b[0m\u001b[1;33m\u001b[0m\u001b[1;33m\u001b[0m\u001b[0m\n\u001b[0;32m   4184\u001b[0m             \u001b[1;32melse\u001b[0m\u001b[1;33m:\u001b[0m\u001b[1;33m\u001b[0m\u001b[1;33m\u001b[0m\u001b[0m\n\u001b[1;32m-> 4185\u001b[1;33m                 \u001b[0mnew_axis\u001b[0m \u001b[1;33m=\u001b[0m \u001b[0maxis\u001b[0m\u001b[1;33m.\u001b[0m\u001b[0mdrop\u001b[0m\u001b[1;33m(\u001b[0m\u001b[0mlabels\u001b[0m\u001b[1;33m,\u001b[0m \u001b[0merrors\u001b[0m\u001b[1;33m=\u001b[0m\u001b[0merrors\u001b[0m\u001b[1;33m)\u001b[0m\u001b[1;33m\u001b[0m\u001b[1;33m\u001b[0m\u001b[0m\n\u001b[0m\u001b[0;32m   4186\u001b[0m             \u001b[0mresult\u001b[0m \u001b[1;33m=\u001b[0m \u001b[0mself\u001b[0m\u001b[1;33m.\u001b[0m\u001b[0mreindex\u001b[0m\u001b[1;33m(\u001b[0m\u001b[1;33m**\u001b[0m\u001b[1;33m{\u001b[0m\u001b[0maxis_name\u001b[0m\u001b[1;33m:\u001b[0m \u001b[0mnew_axis\u001b[0m\u001b[1;33m}\u001b[0m\u001b[1;33m)\u001b[0m\u001b[1;33m\u001b[0m\u001b[1;33m\u001b[0m\u001b[0m\n\u001b[0;32m   4187\u001b[0m \u001b[1;33m\u001b[0m\u001b[0m\n",
      "\u001b[1;32m~\\anaconda3\\lib\\site-packages\\pandas\\core\\indexes\\base.py\u001b[0m in \u001b[0;36mdrop\u001b[1;34m(self, labels, errors)\u001b[0m\n\u001b[0;32m   6015\u001b[0m         \u001b[1;32mif\u001b[0m \u001b[0mmask\u001b[0m\u001b[1;33m.\u001b[0m\u001b[0many\u001b[0m\u001b[1;33m(\u001b[0m\u001b[1;33m)\u001b[0m\u001b[1;33m:\u001b[0m\u001b[1;33m\u001b[0m\u001b[1;33m\u001b[0m\u001b[0m\n\u001b[0;32m   6016\u001b[0m             \u001b[1;32mif\u001b[0m \u001b[0merrors\u001b[0m \u001b[1;33m!=\u001b[0m \u001b[1;34m\"ignore\"\u001b[0m\u001b[1;33m:\u001b[0m\u001b[1;33m\u001b[0m\u001b[1;33m\u001b[0m\u001b[0m\n\u001b[1;32m-> 6017\u001b[1;33m                 \u001b[1;32mraise\u001b[0m \u001b[0mKeyError\u001b[0m\u001b[1;33m(\u001b[0m\u001b[1;34mf\"{labels[mask]} not found in axis\"\u001b[0m\u001b[1;33m)\u001b[0m\u001b[1;33m\u001b[0m\u001b[1;33m\u001b[0m\u001b[0m\n\u001b[0m\u001b[0;32m   6018\u001b[0m             \u001b[0mindexer\u001b[0m \u001b[1;33m=\u001b[0m \u001b[0mindexer\u001b[0m\u001b[1;33m[\u001b[0m\u001b[1;33m~\u001b[0m\u001b[0mmask\u001b[0m\u001b[1;33m]\u001b[0m\u001b[1;33m\u001b[0m\u001b[1;33m\u001b[0m\u001b[0m\n\u001b[0;32m   6019\u001b[0m         \u001b[1;32mreturn\u001b[0m \u001b[0mself\u001b[0m\u001b[1;33m.\u001b[0m\u001b[0mdelete\u001b[0m\u001b[1;33m(\u001b[0m\u001b[0mindexer\u001b[0m\u001b[1;33m)\u001b[0m\u001b[1;33m\u001b[0m\u001b[1;33m\u001b[0m\u001b[0m\n",
      "\u001b[1;31mKeyError\u001b[0m: \"['Unnamed: 0'] not found in axis\""
     ]
    }
   ],
   "source": [
    "dropx = dropx.drop(['Unnamed: 0'],axis = 1)\n"
   ]
  },
  {
   "cell_type": "code",
   "execution_count": 202,
   "id": "4ccc7fdb",
   "metadata": {},
   "outputs": [],
   "source": [
    "train = pd.read_csv(\"../train.csv\")\n",
    "test_X = pd.read_csv(\"../test.csv\")\n",
    "scaled_X = pd.read_csv(\"scaled_x.csv\")\n",
    "scaled_X = scaled_X.drop(['Unnamed: 0','target'],axis = 1)\n",
    "test_X = test_X.drop([\"Id\"],axis=1)\n",
    "X = train.iloc[:,:-1]\n",
    "y = train.iloc[:,-1]\n",
    "scaled_y = winsorize(y,limits=[0.01, 0.2])"
   ]
  },
  {
   "cell_type": "code",
   "execution_count": 68,
   "id": "f86fd070",
   "metadata": {},
   "outputs": [
    {
     "name": "stdout",
     "output_type": "stream",
     "text": [
      "no missing values found\n"
     ]
    }
   ],
   "source": [
    "missingvalues(train)"
   ]
  },
  {
   "cell_type": "markdown",
   "id": "217a4754",
   "metadata": {},
   "source": [
    "# Model Building"
   ]
  },
  {
   "cell_type": "code",
   "execution_count": 49,
   "id": "4a0f992e",
   "metadata": {},
   "outputs": [],
   "source": [
    "from xgboost import XGBRegressor\n",
    "model = XGBRegressor()"
   ]
  },
  {
   "cell_type": "code",
   "execution_count": 50,
   "id": "9aef9b36",
   "metadata": {},
   "outputs": [],
   "source": [
    "model = XGBRegressor()\n",
    "model.fit(X,y)\n",
    "predictions = model.predict(test_X)"
   ]
  },
  {
   "cell_type": "code",
   "execution_count": 51,
   "id": "079b881e",
   "metadata": {},
   "outputs": [],
   "source": [
    "pred = pd.DataFrame(columns=['Id','target'])\n",
    "Id = list(range(len(predictions)))\n",
    "for i in range(5500):\n",
    "    Id[i] = Id[i]+ 1\n",
    "pred.iloc[:,0] = Id\n",
    "pred.iloc[:,1] = predictions"
   ]
  },
  {
   "cell_type": "code",
   "execution_count": 52,
   "id": "105470db",
   "metadata": {},
   "outputs": [],
   "source": [
    "pred.to_csv(\"pred.csv\",index = False)"
   ]
  },
  {
   "cell_type": "markdown",
   "id": "7fc60bd9",
   "metadata": {},
   "source": [
    "# Tuning"
   ]
  },
  {
   "cell_type": "code",
   "execution_count": 193,
   "id": "9f84cfb0",
   "metadata": {},
   "outputs": [],
   "source": [
    "xgb1 = XGBRegressor(\n",
    " learning_rate =0.01,\n",
    " n_estimators=5000,\n",
    " max_depth=4,\n",
    " min_child_weight=2,\n",
    " gamma=0.3,\n",
    " subsample=0.8,\n",
    " colsample_bytree=0.8,\n",
    " objective= 'reg:squarederror',\n",
    " nthread=4,\n",
    " scale_pos_weight=1,\n",
    " seed=27)"
   ]
  },
  {
   "cell_type": "code",
   "execution_count": 194,
   "id": "c5be0ac2",
   "metadata": {},
   "outputs": [],
   "source": [
    "#gbm = GridSearchCV(xgb1,\n",
    "                    \n",
    "#                    param_grid = cv_params,\n",
    "#                    scoring = \"neg_mean_squared_error\",\n",
    " #                   cv = 5,\n",
    " #                   verbose = True\n",
    "#)"
   ]
  },
  {
   "cell_type": "code",
   "execution_count": 254,
   "id": "8b8f916b",
   "metadata": {},
   "outputs": [],
   "source": [
    "#gbm.fit(dropx,dropy)"
   ]
  },
  {
   "cell_type": "code",
   "execution_count": 56,
   "id": "88eae893",
   "metadata": {},
   "outputs": [
    {
     "name": "stdout",
     "output_type": "stream",
     "text": [
      "{'mean_fit_time': array([0.12863054, 0.13263764, 0.13374863, 0.13660884, 0.21457248,\n",
      "       0.21796541, 0.21864138, 0.22085028, 0.35167894, 0.34807744,\n",
      "       0.35167766, 0.3530591 , 0.59490166, 0.58026137, 0.54315376,\n",
      "       0.51992421]), 'std_fit_time': array([0.00413052, 0.00450007, 0.00338996, 0.00712783, 0.00601686,\n",
      "       0.00627208, 0.00545195, 0.00204021, 0.00653093, 0.00817429,\n",
      "       0.00755275, 0.00851449, 0.02152853, 0.00566982, 0.00824295,\n",
      "       0.00819335]), 'mean_score_time': array([0.0024004 , 0.00220227, 0.00280075, 0.0024044 , 0.00240073,\n",
      "       0.00260181, 0.00240064, 0.00240054, 0.00280151, 0.00220046,\n",
      "       0.00240245, 0.00252008, 0.00240068, 0.00279984, 0.00260067,\n",
      "       0.00300055]), 'std_score_time': array([4.90076636e-04, 3.99246045e-04, 7.48277254e-04, 4.90136932e-04,\n",
      "       4.89901406e-04, 4.91210724e-04, 4.90076636e-04, 4.89765190e-04,\n",
      "       4.00353813e-04, 4.00137912e-04, 4.88702180e-04, 7.75822453e-04,\n",
      "       4.90524783e-04, 7.48672585e-04, 4.90076636e-04, 9.53674316e-08]), 'param_max_depth': masked_array(data=[2, 2, 2, 2, 4, 4, 4, 4, 6, 6, 6, 6, 8, 8, 8, 8],\n",
      "             mask=[False, False, False, False, False, False, False, False,\n",
      "                   False, False, False, False, False, False, False, False],\n",
      "       fill_value='?',\n",
      "            dtype=object), 'param_min_child_weight': masked_array(data=[1, 3, 5, 7, 1, 3, 5, 7, 1, 3, 5, 7, 1, 3, 5, 7],\n",
      "             mask=[False, False, False, False, False, False, False, False,\n",
      "                   False, False, False, False, False, False, False, False],\n",
      "       fill_value='?',\n",
      "            dtype=object), 'params': [{'max_depth': 2, 'min_child_weight': 1}, {'max_depth': 2, 'min_child_weight': 3}, {'max_depth': 2, 'min_child_weight': 5}, {'max_depth': 2, 'min_child_weight': 7}, {'max_depth': 4, 'min_child_weight': 1}, {'max_depth': 4, 'min_child_weight': 3}, {'max_depth': 4, 'min_child_weight': 5}, {'max_depth': 4, 'min_child_weight': 7}, {'max_depth': 6, 'min_child_weight': 1}, {'max_depth': 6, 'min_child_weight': 3}, {'max_depth': 6, 'min_child_weight': 5}, {'max_depth': 6, 'min_child_weight': 7}, {'max_depth': 8, 'min_child_weight': 1}, {'max_depth': 8, 'min_child_weight': 3}, {'max_depth': 8, 'min_child_weight': 5}, {'max_depth': 8, 'min_child_weight': 7}], 'split0_test_score': array([nan, nan, nan, nan, nan, nan, nan, nan, nan, nan, nan, nan, nan,\n",
      "       nan, nan, nan]), 'split1_test_score': array([nan, nan, nan, nan, nan, nan, nan, nan, nan, nan, nan, nan, nan,\n",
      "       nan, nan, nan]), 'split2_test_score': array([nan, nan, nan, nan, nan, nan, nan, nan, nan, nan, nan, nan, nan,\n",
      "       nan, nan, nan]), 'split3_test_score': array([nan, nan, nan, nan, nan, nan, nan, nan, nan, nan, nan, nan, nan,\n",
      "       nan, nan, nan]), 'split4_test_score': array([nan, nan, nan, nan, nan, nan, nan, nan, nan, nan, nan, nan, nan,\n",
      "       nan, nan, nan]), 'mean_test_score': array([nan, nan, nan, nan, nan, nan, nan, nan, nan, nan, nan, nan, nan,\n",
      "       nan, nan, nan]), 'std_test_score': array([nan, nan, nan, nan, nan, nan, nan, nan, nan, nan, nan, nan, nan,\n",
      "       nan, nan, nan]), 'rank_test_score': array([ 1,  2,  3,  4,  5,  6,  7,  8,  9, 10, 11, 12, 13, 14, 15, 16])}\n"
     ]
    }
   ],
   "source": [
    "#print(gbm.cv_results_)"
   ]
  },
  {
   "cell_type": "code",
   "execution_count": 57,
   "id": "f9c116f7",
   "metadata": {},
   "outputs": [
    {
     "name": "stdout",
     "output_type": "stream",
     "text": [
      "Best parameters {'max_depth': 2, 'min_child_weight': 1}\n"
     ]
    }
   ],
   "source": [
    "#print (\"Best parameters %s\" %gbm.best_params_)"
   ]
  },
  {
   "cell_type": "markdown",
   "id": "f93e6ba3",
   "metadata": {},
   "source": [
    "# kfolds"
   ]
  },
  {
   "cell_type": "code",
   "execution_count": 98,
   "id": "37e0c401",
   "metadata": {},
   "outputs": [],
   "source": [
    "import sklearn.metrics as metrics\n"
   ]
  },
  {
   "cell_type": "code",
   "execution_count": null,
   "id": "5680a960",
   "metadata": {},
   "outputs": [],
   "source": [
    "def save(pred):\n",
    "    pred = pd.DataFrame(columns=['Id','target'])\n",
    "    Id = list(range(len(predictions)))\n",
    "    for i in range(5500):\n",
    "        Id[i] = Id[i]+ 1\n",
    "    pred.iloc[:,0] = Id\n",
    "    pred.iloc[:,1] = predictions\n",
    "    pred.to_csv(\"pred8.csv\",index = False)"
   ]
  },
  {
   "cell_type": "code",
   "execution_count": 100,
   "id": "6f8a396e",
   "metadata": {},
   "outputs": [],
   "source": [
    "#modelfit(xgb1,train,X.columns)"
   ]
  },
  {
   "cell_type": "code",
   "execution_count": 231,
   "id": "ea9bfab9",
   "metadata": {},
   "outputs": [],
   "source": [
    "xgb_param = xgb1.get_xgb_params()\n",
    "xgtrain = xgb.DMatrix(dropx.values, label=dropy.values)\n",
    "cvresult = xgb.cv(xgb_param, xgtrain, num_boost_round=xgb1.get_params()['n_estimators'], nfold=4,\n",
    "            metrics=\"rmse\", early_stopping_rounds=50)"
   ]
  },
  {
   "cell_type": "code",
   "execution_count": 256,
   "id": "6622242c",
   "metadata": {},
   "outputs": [],
   "source": [
    "#xgb_param = xgb1.get_xgb_params()\n",
    "#xgtrain = xgb.DMatrix(train.iloc[:,:-1].values, label=train['target'].values)\n",
    "#cvresult = xgb.cv(xgb_param, xgtrain, num_boost_round=xgb1.get_params()['n_estimators'], nfold=4,\n",
    " #           metrics=\"rmse\", early_stopping_rounds=50)"
   ]
  },
  {
   "cell_type": "code",
   "execution_count": 199,
   "id": "6ee758c7",
   "metadata": {},
   "outputs": [
    {
     "data": {
      "text/plain": [
       "{'objective': 'reg:squarederror',\n",
       " 'base_score': None,\n",
       " 'booster': None,\n",
       " 'colsample_bylevel': None,\n",
       " 'colsample_bynode': None,\n",
       " 'colsample_bytree': 0.8,\n",
       " 'gamma': 0.3,\n",
       " 'gpu_id': None,\n",
       " 'interaction_constraints': None,\n",
       " 'learning_rate': 0.01,\n",
       " 'max_delta_step': None,\n",
       " 'max_depth': 4,\n",
       " 'min_child_weight': 2,\n",
       " 'monotone_constraints': None,\n",
       " 'n_jobs': None,\n",
       " 'num_parallel_tree': None,\n",
       " 'predictor': None,\n",
       " 'random_state': None,\n",
       " 'reg_alpha': None,\n",
       " 'reg_lambda': None,\n",
       " 'scale_pos_weight': 1,\n",
       " 'subsample': 0.8,\n",
       " 'tree_method': None,\n",
       " 'validate_parameters': None,\n",
       " 'verbosity': None,\n",
       " 'nthread': 4,\n",
       " 'seed': 27}"
      ]
     },
     "execution_count": 199,
     "metadata": {},
     "output_type": "execute_result"
    }
   ],
   "source": [
    "xgb_param"
   ]
  },
  {
   "cell_type": "code",
   "execution_count": 232,
   "id": "7eb34587",
   "metadata": {},
   "outputs": [
    {
     "data": {
      "text/plain": [
       "XGBRegressor(base_score=0.5, booster='gbtree', colsample_bylevel=1,\n",
       "             colsample_bynode=1, colsample_bytree=0.8, enable_categorical=False,\n",
       "             gamma=0.3, gpu_id=-1, importance_type=None,\n",
       "             interaction_constraints='', learning_rate=0.01, max_delta_step=0,\n",
       "             max_depth=4, min_child_weight=2, missing=nan,\n",
       "             monotone_constraints='()', n_estimators=5000, n_jobs=4, nthread=4,\n",
       "             num_parallel_tree=1, predictor='auto', random_state=27,\n",
       "             reg_alpha=0, reg_lambda=1, scale_pos_weight=1, seed=27,\n",
       "             subsample=0.8, tree_method='exact', validate_parameters=1,\n",
       "             verbosity=None)"
      ]
     },
     "execution_count": 232,
     "metadata": {},
     "output_type": "execute_result"
    }
   ],
   "source": [
    "#xgb1.fit(train.iloc[:,:-1], train['target'],eval_metric='')\n",
    "#xgb1.fit(X, predictions,eval_metric=\"rmse\")\n",
    "xgb1.fit(dropx, dropy,eval_metric=\"rmse\")"
   ]
  },
  {
   "cell_type": "code",
   "execution_count": 249,
   "id": "2581ea7b",
   "metadata": {},
   "outputs": [],
   "source": [
    "#predictions = xgb1.predict(X)\n",
    "\n",
    "predictions = xgb1.predict(droptest)"
   ]
  },
  {
   "cell_type": "code",
   "execution_count": 187,
   "id": "19754d5e",
   "metadata": {},
   "outputs": [
    {
     "data": {
      "text/plain": [
       "array([0.        , 0.        , 0.        , 0.        , 0.        ,\n",
       "       0.        , 0.        , 0.        , 0.        , 0.        ,\n",
       "       0.        , 0.        , 0.        , 0.        , 0.00287865,\n",
       "       0.00379781, 0.00564535, 0.00692189, 0.0072098 , 0.00748067,\n",
       "       0.0090384 , 0.0092556 , 0.01054185, 0.01262621, 0.02082562,\n",
       "       0.02108206, 0.02142587, 0.02671697, 0.02717664, 0.02939577,\n",
       "       0.03372387, 0.0414377 , 0.04612825, 0.06173423, 0.06239063,\n",
       "       0.06854022, 0.0751609 , 0.10820878, 0.13297002, 0.14768626],\n",
       "      dtype=float32)"
      ]
     },
     "execution_count": 187,
     "metadata": {},
     "output_type": "execute_result"
    }
   ],
   "source": [
    "a = xgb1.feature_importances_\n",
    "np.save('a.npy',a)\n",
    "np.sort(a)"
   ]
  },
  {
   "cell_type": "code",
   "execution_count": 172,
   "id": "3036069f",
   "metadata": {},
   "outputs": [],
   "source": [
    "#dtrain_predprob = xgb1.predict_proba(train.iloc[:,:-1])[:,1]"
   ]
  },
  {
   "cell_type": "code",
   "execution_count": 257,
   "id": "0b12bb96",
   "metadata": {},
   "outputs": [],
   "source": [
    "from sklearn.metrics import mean_squared_error\n",
    "rms = mean_squared_error(y,predictions )"
   ]
  },
  {
   "cell_type": "code",
   "execution_count": 206,
   "id": "e5fc226a",
   "metadata": {},
   "outputs": [
    {
     "data": {
      "text/plain": [
       "0.01862125133495215"
      ]
     },
     "execution_count": 206,
     "metadata": {},
     "output_type": "execute_result"
    }
   ],
   "source": [
    "rms"
   ]
  },
  {
   "cell_type": "code",
   "execution_count": 128,
   "id": "71201ad5",
   "metadata": {},
   "outputs": [
    {
     "name": "stderr",
     "output_type": "stream",
     "text": [
      "C:\\Users\\59545\\anaconda3\\lib\\site-packages\\xgboost\\sklearn.py:1224: UserWarning: The use of label encoder in XGBClassifier is deprecated and will be removed in a future release. To remove this warning, do the following: 1) Pass option use_label_encoder=False when constructing XGBClassifier object; and 2) Encode your labels (y) as integers starting with 0, i.e. 0, 1, 2, ..., [num_class - 1].\n",
      "  warnings.warn(label_encoder_deprecation_msg, UserWarning)\n"
     ]
    },
    {
     "name": "stdout",
     "output_type": "stream",
     "text": [
      "[23:25:51] WARNING: D:\\Build\\xgboost\\xgboost-1.5.1.git\\src\\learner.cc:576: \n",
      "Parameters: { \"scale_pos_weight\" } might not be used.\n",
      "\n",
      "  This could be a false alarm, with some parameters getting used by language bindings but\n",
      "  then being mistakenly passed down to XGBoost core, or some parameter actually being used\n",
      "  but getting flagged wrongly here. Please open an issue if you find any such cases.\n",
      "\n",
      "\n",
      "[23:25:51] WARNING: D:\\Build\\xgboost\\xgboost-1.5.1.git\\src\\learner.cc:1115: Starting in XGBoost 1.3.0, the default evaluation metric used with the objective 'multi:softprob' was changed from 'merror' to 'mlogloss'. Explicitly set eval_metric if you'd like to restore the old behavior.\n"
     ]
    },
    {
     "data": {
      "text/plain": [
       "GridSearchCV(cv=5,\n",
       "             estimator=XGBClassifier(base_score=None, booster=None,\n",
       "                                     colsample_bylevel=None,\n",
       "                                     colsample_bynode=None,\n",
       "                                     colsample_bytree=0.8,\n",
       "                                     enable_categorical=False, gamma=0.3,\n",
       "                                     gpu_id=None, importance_type=None,\n",
       "                                     interaction_constraints=None,\n",
       "                                     learning_rate=0.1, max_delta_step=None,\n",
       "                                     max_depth=4, min_child_weight=2,\n",
       "                                     missing=nan, monotone_constraints=None,\n",
       "                                     n_estimat...obs=None, nthread=4,\n",
       "                                     num_parallel_tree=None,\n",
       "                                     objective='reg:squarederror',\n",
       "                                     predictor=None, random_state=None,\n",
       "                                     reg_alpha=None, reg_lambda=None,\n",
       "                                     scale_pos_weight=1, seed=27, subsample=0.8,\n",
       "                                     tree_method=None, validate_parameters=None, ...),\n",
       "             n_jobs=4,\n",
       "             param_grid={'colsample_bytree': [0.65, 0.7, 0.75, 0.8, 0.85],\n",
       "                         'subsample': [0.75, 0.8, 0.85]},\n",
       "             scoring='neg_mean_squared_error')"
      ]
     },
     "execution_count": 128,
     "metadata": {},
     "output_type": "execute_result"
    }
   ],
   "source": [
    "param_test1 = {\n",
    "'subsample':[i/100.0 for i in range(75,90,5)],\n",
    " 'colsample_bytree':[i/100.0 for i in range(65,90,5)]\n",
    "}\n",
    "gsearch1 = GridSearchCV(estimator = XGBClassifier(         learning_rate =0.1, n_estimators=140, max_depth=4,\n",
    "min_child_weight=2, gamma=0.3, subsample=0.8,             colsample_bytree=0.8,\n",
    " objective= 'reg:squarederror', nthread=4,     scale_pos_weight=1, seed=27), \n",
    " param_grid = param_test1,     scoring=\"neg_mean_squared_error\",n_jobs=4, cv=5)\n",
    "gsearch1.fit(X,y)\n",
    "#gsearch1.grid_scores_, gsearch1.best_params_,     gsearch1.best_score_\n",
    "\n"
   ]
  },
  {
   "cell_type": "code",
   "execution_count": 129,
   "id": "6d06f0b7",
   "metadata": {},
   "outputs": [
    {
     "data": {
      "text/plain": [
       "{'colsample_bytree': 0.8, 'subsample': 0.8}"
      ]
     },
     "execution_count": 129,
     "metadata": {},
     "output_type": "execute_result"
    }
   ],
   "source": [
    "gsearch1.best_params_"
   ]
  },
  {
   "cell_type": "code",
   "execution_count": null,
   "id": "9f42e92d",
   "metadata": {},
   "outputs": [],
   "source": []
  }
 ],
 "metadata": {
  "kernelspec": {
   "display_name": "Python 3 (ipykernel)",
   "language": "python",
   "name": "python3"
  },
  "language_info": {
   "codemirror_mode": {
    "name": "ipython",
    "version": 3
   },
   "file_extension": ".py",
   "mimetype": "text/x-python",
   "name": "python",
   "nbconvert_exporter": "python",
   "pygments_lexer": "ipython3",
   "version": "3.9.7"
  }
 },
 "nbformat": 4,
 "nbformat_minor": 5
}
