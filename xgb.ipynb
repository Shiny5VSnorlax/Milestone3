{
 "cells": [
  {
   "cell_type": "code",
   "execution_count": 1,
   "id": "7a773535",
   "metadata": {},
   "outputs": [],
   "source": [
    "import pandas as pd\n",
    "import numpy as np\n",
    "import xgboost as xgb\n",
    "from xgboost.sklearn import XGBClassifier\n",
    "from sklearn.model_selection import KFold,cross_validate,cross_val_score,cross_val_predict\n",
    "from sklearn.model_selection import GridSearchCV\n",
    "import numpy as np  \n",
    "import xgboost as xgb  \n",
    "import pandas as pd\n",
    "from sklearn.model_selection import train_test_split\n",
    "from scipy.stats.mstats import winsorize"
   ]
  },
  {
   "cell_type": "markdown",
   "id": "6e44f695",
   "metadata": {},
   "source": [
    "# Preprocessing"
   ]
  },
  {
   "cell_type": "code",
   "execution_count": 2,
   "id": "819eee62",
   "metadata": {},
   "outputs": [],
   "source": [
    "def missingvalues(train_data):\n",
    "    count_na = []\n",
    "    for col in train_data.columns:\n",
    "        count_na.append(train_data[col].isna().sum().item())\n",
    "    a = 0\n",
    "    for i in range(len(count_na)):\n",
    "        if count_na[i] != 0:\n",
    "            print(\"missing data found in %s\"%train_data.columns[i])\n",
    "            a = a+1\n",
    "    if a == 0:\n",
    "        print(\"no missing values found\")"
   ]
  },
  {
   "cell_type": "code",
   "execution_count": 3,
   "id": "3931a074",
   "metadata": {},
   "outputs": [],
   "source": [
    "dropdata = pd.read_csv('dropdata.csv')\n",
    "droptest = pd.read_csv('droptest.csv')\n",
    "pcatest = pd.read_csv('../pca_test.csv')\n",
    "pcatrain = pd.read_csv('../pca_train.csv')\n",
    "dropx = dropdata.iloc[:,:-1]\n",
    "\n",
    "dropy = dropdata.iloc[:,-1]\n",
    "pcatrainX = pcatrain.iloc[:,:-1]\n",
    "pcatrainy = pcatrain.iloc[:,-1]"
   ]
  },
  {
   "cell_type": "code",
   "execution_count": 4,
   "id": "196daa84",
   "metadata": {},
   "outputs": [],
   "source": [
    "droptest = droptest.drop(['Id'],axis = 1)\n",
    "dropx = dropx.drop(['Unnamed: 0'],axis = 1)"
   ]
  },
  {
   "cell_type": "code",
   "execution_count": 5,
   "id": "ab390b89",
   "metadata": {},
   "outputs": [
    {
     "data": {
      "text/html": [
       "<div>\n",
       "<style scoped>\n",
       "    .dataframe tbody tr th:only-of-type {\n",
       "        vertical-align: middle;\n",
       "    }\n",
       "\n",
       "    .dataframe tbody tr th {\n",
       "        vertical-align: top;\n",
       "    }\n",
       "\n",
       "    .dataframe thead th {\n",
       "        text-align: right;\n",
       "    }\n",
       "</style>\n",
       "<table border=\"1\" class=\"dataframe\">\n",
       "  <thead>\n",
       "    <tr style=\"text-align: right;\">\n",
       "      <th></th>\n",
       "      <th>Unnamed: 0</th>\n",
       "      <th>m</th>\n",
       "      <th>n</th>\n",
       "      <th>absoluate_roll</th>\n",
       "      <th>time1</th>\n",
       "      <th>time2</th>\n",
       "      <th>time3</th>\n",
       "      <th>time4</th>\n",
       "      <th>time5</th>\n",
       "      <th>time6</th>\n",
       "      <th>time7</th>\n",
       "      <th>time8</th>\n",
       "      <th>time9</th>\n",
       "      <th>time10</th>\n",
       "      <th>time11</th>\n",
       "      <th>time12</th>\n",
       "      <th>time13</th>\n",
       "    </tr>\n",
       "  </thead>\n",
       "  <tbody>\n",
       "    <tr>\n",
       "      <th>0</th>\n",
       "      <td>0</td>\n",
       "      <td>1.363425</td>\n",
       "      <td>0.06</td>\n",
       "      <td>-11</td>\n",
       "      <td>0.038</td>\n",
       "      <td>0.038</td>\n",
       "      <td>0.038</td>\n",
       "      <td>0.038</td>\n",
       "      <td>0.038</td>\n",
       "      <td>0.038</td>\n",
       "      <td>0.038</td>\n",
       "      <td>0.038</td>\n",
       "      <td>0.038</td>\n",
       "      <td>0.038</td>\n",
       "      <td>0.076</td>\n",
       "      <td>0.038</td>\n",
       "      <td>0.038</td>\n",
       "    </tr>\n",
       "    <tr>\n",
       "      <th>1</th>\n",
       "      <td>1</td>\n",
       "      <td>0.718924</td>\n",
       "      <td>0.00</td>\n",
       "      <td>-7</td>\n",
       "      <td>0.017</td>\n",
       "      <td>0.017</td>\n",
       "      <td>0.017</td>\n",
       "      <td>0.017</td>\n",
       "      <td>0.017</td>\n",
       "      <td>0.017</td>\n",
       "      <td>0.017</td>\n",
       "      <td>0.018</td>\n",
       "      <td>0.018</td>\n",
       "      <td>0.017</td>\n",
       "      <td>0.034</td>\n",
       "      <td>0.017</td>\n",
       "      <td>0.017</td>\n",
       "    </tr>\n",
       "    <tr>\n",
       "      <th>2</th>\n",
       "      <td>2</td>\n",
       "      <td>1.390968</td>\n",
       "      <td>0.13</td>\n",
       "      <td>-6</td>\n",
       "      <td>0.015</td>\n",
       "      <td>0.015</td>\n",
       "      <td>0.015</td>\n",
       "      <td>0.016</td>\n",
       "      <td>0.016</td>\n",
       "      <td>0.017</td>\n",
       "      <td>0.017</td>\n",
       "      <td>0.019</td>\n",
       "      <td>0.019</td>\n",
       "      <td>0.020</td>\n",
       "      <td>0.040</td>\n",
       "      <td>0.020</td>\n",
       "      <td>0.020</td>\n",
       "    </tr>\n",
       "    <tr>\n",
       "      <th>3</th>\n",
       "      <td>3</td>\n",
       "      <td>1.072508</td>\n",
       "      <td>0.04</td>\n",
       "      <td>-7</td>\n",
       "      <td>0.018</td>\n",
       "      <td>0.018</td>\n",
       "      <td>0.018</td>\n",
       "      <td>0.018</td>\n",
       "      <td>0.018</td>\n",
       "      <td>0.018</td>\n",
       "      <td>0.018</td>\n",
       "      <td>0.018</td>\n",
       "      <td>0.018</td>\n",
       "      <td>0.018</td>\n",
       "      <td>0.036</td>\n",
       "      <td>0.018</td>\n",
       "      <td>0.018</td>\n",
       "    </tr>\n",
       "    <tr>\n",
       "      <th>4</th>\n",
       "      <td>4</td>\n",
       "      <td>0.980199</td>\n",
       "      <td>0.20</td>\n",
       "      <td>-20</td>\n",
       "      <td>0.027</td>\n",
       "      <td>0.027</td>\n",
       "      <td>0.027</td>\n",
       "      <td>0.027</td>\n",
       "      <td>0.027</td>\n",
       "      <td>0.027</td>\n",
       "      <td>0.027</td>\n",
       "      <td>0.027</td>\n",
       "      <td>0.027</td>\n",
       "      <td>0.027</td>\n",
       "      <td>0.054</td>\n",
       "      <td>0.027</td>\n",
       "      <td>0.027</td>\n",
       "    </tr>\n",
       "    <tr>\n",
       "      <th>...</th>\n",
       "      <td>...</td>\n",
       "      <td>...</td>\n",
       "      <td>...</td>\n",
       "      <td>...</td>\n",
       "      <td>...</td>\n",
       "      <td>...</td>\n",
       "      <td>...</td>\n",
       "      <td>...</td>\n",
       "      <td>...</td>\n",
       "      <td>...</td>\n",
       "      <td>...</td>\n",
       "      <td>...</td>\n",
       "      <td>...</td>\n",
       "      <td>...</td>\n",
       "      <td>...</td>\n",
       "      <td>...</td>\n",
       "      <td>...</td>\n",
       "    </tr>\n",
       "    <tr>\n",
       "      <th>5495</th>\n",
       "      <td>5495</td>\n",
       "      <td>0.941765</td>\n",
       "      <td>-0.15</td>\n",
       "      <td>-7</td>\n",
       "      <td>0.027</td>\n",
       "      <td>0.027</td>\n",
       "      <td>0.027</td>\n",
       "      <td>0.027</td>\n",
       "      <td>0.027</td>\n",
       "      <td>0.027</td>\n",
       "      <td>0.027</td>\n",
       "      <td>0.027</td>\n",
       "      <td>0.027</td>\n",
       "      <td>0.026</td>\n",
       "      <td>0.052</td>\n",
       "      <td>0.026</td>\n",
       "      <td>0.026</td>\n",
       "    </tr>\n",
       "    <tr>\n",
       "      <th>5496</th>\n",
       "      <td>5496</td>\n",
       "      <td>1.061837</td>\n",
       "      <td>-0.05</td>\n",
       "      <td>-13</td>\n",
       "      <td>0.019</td>\n",
       "      <td>0.019</td>\n",
       "      <td>0.019</td>\n",
       "      <td>0.019</td>\n",
       "      <td>0.019</td>\n",
       "      <td>0.019</td>\n",
       "      <td>0.019</td>\n",
       "      <td>0.019</td>\n",
       "      <td>0.019</td>\n",
       "      <td>0.019</td>\n",
       "      <td>0.038</td>\n",
       "      <td>0.019</td>\n",
       "      <td>0.019</td>\n",
       "    </tr>\n",
       "    <tr>\n",
       "      <th>5497</th>\n",
       "      <td>5497</td>\n",
       "      <td>0.612626</td>\n",
       "      <td>0.08</td>\n",
       "      <td>-10</td>\n",
       "      <td>0.017</td>\n",
       "      <td>0.017</td>\n",
       "      <td>0.017</td>\n",
       "      <td>0.017</td>\n",
       "      <td>0.017</td>\n",
       "      <td>0.017</td>\n",
       "      <td>0.017</td>\n",
       "      <td>0.018</td>\n",
       "      <td>0.018</td>\n",
       "      <td>0.018</td>\n",
       "      <td>0.036</td>\n",
       "      <td>0.018</td>\n",
       "      <td>0.018</td>\n",
       "    </tr>\n",
       "    <tr>\n",
       "      <th>5498</th>\n",
       "      <td>5498</td>\n",
       "      <td>0.923116</td>\n",
       "      <td>0.08</td>\n",
       "      <td>-11</td>\n",
       "      <td>0.020</td>\n",
       "      <td>0.020</td>\n",
       "      <td>0.020</td>\n",
       "      <td>0.020</td>\n",
       "      <td>0.020</td>\n",
       "      <td>0.020</td>\n",
       "      <td>0.020</td>\n",
       "      <td>0.020</td>\n",
       "      <td>0.020</td>\n",
       "      <td>0.020</td>\n",
       "      <td>0.040</td>\n",
       "      <td>0.020</td>\n",
       "      <td>0.020</td>\n",
       "    </tr>\n",
       "    <tr>\n",
       "      <th>5499</th>\n",
       "      <td>5499</td>\n",
       "      <td>0.990050</td>\n",
       "      <td>0.10</td>\n",
       "      <td>-9</td>\n",
       "      <td>0.017</td>\n",
       "      <td>0.017</td>\n",
       "      <td>0.017</td>\n",
       "      <td>0.017</td>\n",
       "      <td>0.017</td>\n",
       "      <td>0.017</td>\n",
       "      <td>0.017</td>\n",
       "      <td>0.017</td>\n",
       "      <td>0.017</td>\n",
       "      <td>0.017</td>\n",
       "      <td>0.034</td>\n",
       "      <td>0.017</td>\n",
       "      <td>0.017</td>\n",
       "    </tr>\n",
       "  </tbody>\n",
       "</table>\n",
       "<p>5500 rows × 17 columns</p>\n",
       "</div>"
      ],
      "text/plain": [
       "      Unnamed: 0         m     n  absoluate_roll  time1  time2  time3  time4  \\\n",
       "0              0  1.363425  0.06             -11  0.038  0.038  0.038  0.038   \n",
       "1              1  0.718924  0.00              -7  0.017  0.017  0.017  0.017   \n",
       "2              2  1.390968  0.13              -6  0.015  0.015  0.015  0.016   \n",
       "3              3  1.072508  0.04              -7  0.018  0.018  0.018  0.018   \n",
       "4              4  0.980199  0.20             -20  0.027  0.027  0.027  0.027   \n",
       "...          ...       ...   ...             ...    ...    ...    ...    ...   \n",
       "5495        5495  0.941765 -0.15              -7  0.027  0.027  0.027  0.027   \n",
       "5496        5496  1.061837 -0.05             -13  0.019  0.019  0.019  0.019   \n",
       "5497        5497  0.612626  0.08             -10  0.017  0.017  0.017  0.017   \n",
       "5498        5498  0.923116  0.08             -11  0.020  0.020  0.020  0.020   \n",
       "5499        5499  0.990050  0.10              -9  0.017  0.017  0.017  0.017   \n",
       "\n",
       "      time5  time6  time7  time8  time9  time10  time11  time12  time13  \n",
       "0     0.038  0.038  0.038  0.038  0.038   0.038   0.076   0.038   0.038  \n",
       "1     0.017  0.017  0.017  0.018  0.018   0.017   0.034   0.017   0.017  \n",
       "2     0.016  0.017  0.017  0.019  0.019   0.020   0.040   0.020   0.020  \n",
       "3     0.018  0.018  0.018  0.018  0.018   0.018   0.036   0.018   0.018  \n",
       "4     0.027  0.027  0.027  0.027  0.027   0.027   0.054   0.027   0.027  \n",
       "...     ...    ...    ...    ...    ...     ...     ...     ...     ...  \n",
       "5495  0.027  0.027  0.027  0.027  0.027   0.026   0.052   0.026   0.026  \n",
       "5496  0.019  0.019  0.019  0.019  0.019   0.019   0.038   0.019   0.019  \n",
       "5497  0.017  0.017  0.017  0.018  0.018   0.018   0.036   0.018   0.018  \n",
       "5498  0.020  0.020  0.020  0.020  0.020   0.020   0.040   0.020   0.020  \n",
       "5499  0.017  0.017  0.017  0.017  0.017   0.017   0.034   0.017   0.017  \n",
       "\n",
       "[5500 rows x 17 columns]"
      ]
     },
     "execution_count": 5,
     "metadata": {},
     "output_type": "execute_result"
    }
   ],
   "source": [
    "#droptest = pd.read_csv('droptest.csv')\n",
    "droptest"
   ]
  },
  {
   "cell_type": "code",
   "execution_count": 236,
   "id": "dcc27817",
   "metadata": {},
   "outputs": [],
   "source": [
    "dropx = dropx.drop(['Unnamed: 0'],axis = 1)\n"
   ]
  },
  {
   "cell_type": "code",
   "execution_count": 126,
   "id": "4ccc7fdb",
   "metadata": {},
   "outputs": [],
   "source": [
    "train = pd.read_csv(\"../train.csv\")\n",
    "test_X = pd.read_csv(\"../test.csv\")\n",
    "scaled_X = pd.read_csv(\"scaled_x.csv\")\n",
    "scaled_X = scaled_X.drop(['Unnamed: 0','target'],axis = 1)\n",
    "test_X = test_X.drop([\"Id\"],axis=1)\n",
    "X = train.iloc[:,:-1]\n",
    "y = train.iloc[:,-1]\n",
    "scaled_y = winsorize(y,limits=[0.01, 0.2])"
   ]
  },
  {
   "cell_type": "code",
   "execution_count": 8,
   "id": "f86fd070",
   "metadata": {},
   "outputs": [
    {
     "name": "stdout",
     "output_type": "stream",
     "text": [
      "no missing values found\n"
     ]
    }
   ],
   "source": [
    "missingvalues(train)"
   ]
  },
  {
   "cell_type": "markdown",
   "id": "217a4754",
   "metadata": {},
   "source": [
    "# Model Building"
   ]
  },
  {
   "cell_type": "code",
   "execution_count": 9,
   "id": "4a0f992e",
   "metadata": {},
   "outputs": [],
   "source": [
    "from xgboost import XGBRegressor\n",
    "model = XGBRegressor()"
   ]
  },
  {
   "cell_type": "code",
   "execution_count": 10,
   "id": "9aef9b36",
   "metadata": {},
   "outputs": [],
   "source": [
    "model = XGBRegressor()\n",
    "model.fit(X,y)\n",
    "predictions = model.predict(test_X)"
   ]
  },
  {
   "cell_type": "code",
   "execution_count": 11,
   "id": "079b881e",
   "metadata": {},
   "outputs": [],
   "source": [
    "pred = pd.DataFrame(columns=['Id','target'])\n",
    "Id = list(range(len(predictions)))\n",
    "for i in range(5500):\n",
    "    Id[i] = Id[i]+ 1\n",
    "pred.iloc[:,0] = Id\n",
    "pred.iloc[:,1] = predictions"
   ]
  },
  {
   "cell_type": "code",
   "execution_count": 12,
   "id": "105470db",
   "metadata": {},
   "outputs": [],
   "source": [
    "pred.to_csv(\"pred.csv\",index = False)"
   ]
  },
  {
   "cell_type": "markdown",
   "id": "7fc60bd9",
   "metadata": {},
   "source": [
    "# Tuning"
   ]
  },
  {
   "cell_type": "code",
   "execution_count": 260,
   "id": "9f84cfb0",
   "metadata": {},
   "outputs": [],
   "source": [
    "xgb1 = XGBRegressor(\n",
    " learning_rate =0.01,\n",
    " n_estimators=  1552,\n",
    " max_depth=5,\n",
    " min_child_weight=0,\n",
    " gamma=0,\n",
    " subsample=0.65,\n",
    " colsample_bytree=0.81,\n",
    " objective= 'reg:squarederror',\n",
    " nthread=4,\n",
    " scale_pos_weight=1,\n",
    " seed=42)"
   ]
  },
  {
   "cell_type": "code",
   "execution_count": 220,
   "id": "c5be0ac2",
   "metadata": {},
   "outputs": [],
   "source": [
    "#gbm = GridSearchCV(xgb1,\n",
    "                    \n",
    "#                    param_grid = cv_params,\n",
    "#                    scoring = \"neg_mean_squared_error\",\n",
    " #                   cv = 5,\n",
    " #                   verbose = True\n",
    "#)"
   ]
  },
  {
   "cell_type": "code",
   "execution_count": 221,
   "id": "8b8f916b",
   "metadata": {},
   "outputs": [],
   "source": [
    "#gbm.fit(dropx,dropy)"
   ]
  },
  {
   "cell_type": "code",
   "execution_count": 222,
   "id": "88eae893",
   "metadata": {},
   "outputs": [],
   "source": [
    "#print(gbm.cv_results_)"
   ]
  },
  {
   "cell_type": "code",
   "execution_count": 223,
   "id": "f9c116f7",
   "metadata": {},
   "outputs": [],
   "source": [
    "#print (\"Best parameters %s\" %gbm.best_params_)"
   ]
  },
  {
   "cell_type": "markdown",
   "id": "f93e6ba3",
   "metadata": {},
   "source": [
    "# kfolds"
   ]
  },
  {
   "cell_type": "code",
   "execution_count": 224,
   "id": "37e0c401",
   "metadata": {},
   "outputs": [],
   "source": [
    "import sklearn.metrics as metrics\n"
   ]
  },
  {
   "cell_type": "code",
   "execution_count": 233,
   "id": "5680a960",
   "metadata": {},
   "outputs": [],
   "source": [
    "def save(predictions):\n",
    "    pred = pd.DataFrame(columns=['Id','target'])\n",
    "    Id = list(range(len(predictions)))\n",
    "    for i in range(5500):\n",
    "        Id[i] = Id[i]+ 1\n",
    "    pred.iloc[:,0] = Id\n",
    "    pred.iloc[:,1] = predictions\n",
    "    pred.to_csv(\"pred0.csv\",index = False)"
   ]
  },
  {
   "cell_type": "code",
   "execution_count": 226,
   "id": "6f8a396e",
   "metadata": {},
   "outputs": [],
   "source": [
    "#modelfit(xgb1,train,X.columns)"
   ]
  },
  {
   "cell_type": "code",
   "execution_count": 248,
   "id": "ea9bfab9",
   "metadata": {},
   "outputs": [],
   "source": [
    "xgb_param = xgb1.get_xgb_params()\n",
    "xgtrain = xgb.DMatrix(pcatrainX.values, label=pcatrainy.values)\n",
    "cvresult = xgb.cv(xgb_param, xgtrain, num_boost_round=xgb1.get_params()['n_estimators'], nfold=10,\n",
    "            metrics=\"rmse\", early_stopping_rounds=50)"
   ]
  },
  {
   "cell_type": "code",
   "execution_count": 249,
   "id": "05186494",
   "metadata": {},
   "outputs": [
    {
     "data": {
      "text/plain": [
       "XGBRegressor(base_score=None, booster=None, colsample_bylevel=None,\n",
       "             colsample_bynode=None, colsample_bytree=0.79,\n",
       "             enable_categorical=False, gamma=0, gpu_id=None,\n",
       "             importance_type=None, interaction_constraints=None,\n",
       "             learning_rate=0.01, max_delta_step=None, max_depth=5,\n",
       "             min_child_weight=1, missing=nan, monotone_constraints=None,\n",
       "             n_estimators=1552, n_jobs=None, nthread=4, num_parallel_tree=None,\n",
       "             predictor=None, random_state=None, reg_alpha=None, reg_lambda=None,\n",
       "             scale_pos_weight=1, seed=42, subsample=0.63, tree_method=None,\n",
       "             validate_parameters=None, verbosity=None)"
      ]
     },
     "execution_count": 249,
     "metadata": {},
     "output_type": "execute_result"
    }
   ],
   "source": [
    "xgb1.set_params(n_estimators=cvresult.shape[0])"
   ]
  },
  {
   "cell_type": "code",
   "execution_count": 24,
   "id": "6622242c",
   "metadata": {},
   "outputs": [],
   "source": [
    "#xgb_param = xgb1.get_xgb_params()\n",
    "#xgtrain = xgb.DMatrix(train.iloc[:,:-1].values, label=train['target'].values)\n",
    "#cvresult = xgb.cv(xgb_param, xgtrain, num_boost_round=xgb1.get_params()['n_estimators'], nfold=4,\n",
    " #           metrics=\"rmse\", early_stopping_rounds=50)"
   ]
  },
  {
   "cell_type": "code",
   "execution_count": 24,
   "id": "e70005e1",
   "metadata": {},
   "outputs": [
    {
     "data": {
      "text/html": [
       "<div>\n",
       "<style scoped>\n",
       "    .dataframe tbody tr th:only-of-type {\n",
       "        vertical-align: middle;\n",
       "    }\n",
       "\n",
       "    .dataframe tbody tr th {\n",
       "        vertical-align: top;\n",
       "    }\n",
       "\n",
       "    .dataframe thead th {\n",
       "        text-align: right;\n",
       "    }\n",
       "</style>\n",
       "<table border=\"1\" class=\"dataframe\">\n",
       "  <thead>\n",
       "    <tr style=\"text-align: right;\">\n",
       "      <th></th>\n",
       "      <th>train-rmse-mean</th>\n",
       "      <th>train-rmse-std</th>\n",
       "      <th>test-rmse-mean</th>\n",
       "      <th>test-rmse-std</th>\n",
       "    </tr>\n",
       "  </thead>\n",
       "  <tbody>\n",
       "    <tr>\n",
       "      <th>0</th>\n",
       "      <td>0.542190</td>\n",
       "      <td>0.002078</td>\n",
       "      <td>0.542202</td>\n",
       "      <td>0.006271</td>\n",
       "    </tr>\n",
       "    <tr>\n",
       "      <th>1</th>\n",
       "      <td>0.538037</td>\n",
       "      <td>0.001771</td>\n",
       "      <td>0.538095</td>\n",
       "      <td>0.006587</td>\n",
       "    </tr>\n",
       "    <tr>\n",
       "      <th>2</th>\n",
       "      <td>0.533648</td>\n",
       "      <td>0.001747</td>\n",
       "      <td>0.533749</td>\n",
       "      <td>0.006652</td>\n",
       "    </tr>\n",
       "    <tr>\n",
       "      <th>3</th>\n",
       "      <td>0.529540</td>\n",
       "      <td>0.001854</td>\n",
       "      <td>0.529672</td>\n",
       "      <td>0.006585</td>\n",
       "    </tr>\n",
       "    <tr>\n",
       "      <th>4</th>\n",
       "      <td>0.525284</td>\n",
       "      <td>0.001787</td>\n",
       "      <td>0.525477</td>\n",
       "      <td>0.006706</td>\n",
       "    </tr>\n",
       "    <tr>\n",
       "      <th>...</th>\n",
       "      <td>...</td>\n",
       "      <td>...</td>\n",
       "      <td>...</td>\n",
       "      <td>...</td>\n",
       "    </tr>\n",
       "    <tr>\n",
       "      <th>2711</th>\n",
       "      <td>0.134171</td>\n",
       "      <td>0.000561</td>\n",
       "      <td>0.163210</td>\n",
       "      <td>0.006364</td>\n",
       "    </tr>\n",
       "    <tr>\n",
       "      <th>2712</th>\n",
       "      <td>0.134166</td>\n",
       "      <td>0.000565</td>\n",
       "      <td>0.163209</td>\n",
       "      <td>0.006365</td>\n",
       "    </tr>\n",
       "    <tr>\n",
       "      <th>2713</th>\n",
       "      <td>0.134166</td>\n",
       "      <td>0.000565</td>\n",
       "      <td>0.163209</td>\n",
       "      <td>0.006365</td>\n",
       "    </tr>\n",
       "    <tr>\n",
       "      <th>2714</th>\n",
       "      <td>0.134166</td>\n",
       "      <td>0.000565</td>\n",
       "      <td>0.163209</td>\n",
       "      <td>0.006365</td>\n",
       "    </tr>\n",
       "    <tr>\n",
       "      <th>2715</th>\n",
       "      <td>0.134166</td>\n",
       "      <td>0.000565</td>\n",
       "      <td>0.163208</td>\n",
       "      <td>0.006365</td>\n",
       "    </tr>\n",
       "  </tbody>\n",
       "</table>\n",
       "<p>2716 rows × 4 columns</p>\n",
       "</div>"
      ],
      "text/plain": [
       "      train-rmse-mean  train-rmse-std  test-rmse-mean  test-rmse-std\n",
       "0            0.542190        0.002078        0.542202       0.006271\n",
       "1            0.538037        0.001771        0.538095       0.006587\n",
       "2            0.533648        0.001747        0.533749       0.006652\n",
       "3            0.529540        0.001854        0.529672       0.006585\n",
       "4            0.525284        0.001787        0.525477       0.006706\n",
       "...               ...             ...             ...            ...\n",
       "2711         0.134171        0.000561        0.163210       0.006364\n",
       "2712         0.134166        0.000565        0.163209       0.006365\n",
       "2713         0.134166        0.000565        0.163209       0.006365\n",
       "2714         0.134166        0.000565        0.163209       0.006365\n",
       "2715         0.134166        0.000565        0.163208       0.006365\n",
       "\n",
       "[2716 rows x 4 columns]"
      ]
     },
     "execution_count": 24,
     "metadata": {},
     "output_type": "execute_result"
    }
   ],
   "source": [
    "cvresult"
   ]
  },
  {
   "cell_type": "code",
   "execution_count": 80,
   "id": "6ee758c7",
   "metadata": {},
   "outputs": [
    {
     "data": {
      "text/plain": [
       "{'objective': 'reg:squarederror',\n",
       " 'base_score': None,\n",
       " 'booster': None,\n",
       " 'colsample_bylevel': None,\n",
       " 'colsample_bynode': None,\n",
       " 'colsample_bytree': 0.8,\n",
       " 'gamma': 0,\n",
       " 'gpu_id': None,\n",
       " 'interaction_constraints': None,\n",
       " 'learning_rate': 0.1,\n",
       " 'max_delta_step': None,\n",
       " 'max_depth': 5,\n",
       " 'min_child_weight': 5,\n",
       " 'monotone_constraints': None,\n",
       " 'n_jobs': None,\n",
       " 'num_parallel_tree': None,\n",
       " 'predictor': None,\n",
       " 'random_state': None,\n",
       " 'reg_alpha': None,\n",
       " 'reg_lambda': None,\n",
       " 'scale_pos_weight': 1,\n",
       " 'subsample': 0.8,\n",
       " 'tree_method': None,\n",
       " 'validate_parameters': None,\n",
       " 'verbosity': None,\n",
       " 'nthread': 4,\n",
       " 'seed': 42}"
      ]
     },
     "execution_count": 80,
     "metadata": {},
     "output_type": "execute_result"
    }
   ],
   "source": [
    "xgb_param"
   ]
  },
  {
   "cell_type": "code",
   "execution_count": 241,
   "id": "fb59eb93",
   "metadata": {},
   "outputs": [
    {
     "data": {
      "text/plain": [
       "GridSearchCV(cv=5,\n",
       "             estimator=XGBRegressor(base_score=None, booster=None,\n",
       "                                    colsample_bylevel=None,\n",
       "                                    colsample_bynode=None,\n",
       "                                    colsample_bytree=0.81,\n",
       "                                    enable_categorical=False, gamma=0,\n",
       "                                    gpu_id=None, importance_type=None,\n",
       "                                    interaction_constraints=None,\n",
       "                                    learning_rate=0.1, max_delta_step=None,\n",
       "                                    max_depth=5, min_child_weight=1,\n",
       "                                    missing=nan, monotone_constraints=None,\n",
       "                                    n_estimator...\n",
       "                                    seed=42, subsample=0.65, tree_method=None,\n",
       "                                    validate_parameters=None, verbosity=None),\n",
       "             n_jobs=4,\n",
       "             param_grid={'colsample_bytree': [0.5, 0.51, 0.52, 0.53, 0.54, 0.55,\n",
       "                                              0.56, 0.57, 0.58, 0.59, 0.6, 0.61,\n",
       "                                              0.62, 0.63, 0.64, 0.65, 0.66,\n",
       "                                              0.67, 0.68, 0.69],\n",
       "                         'subsample': [0.7, 0.71, 0.72, 0.73, 0.74, 0.75, 0.76,\n",
       "                                       0.77, 0.78, 0.79, 0.8, 0.81, 0.82, 0.83,\n",
       "                                       0.84, 0.85, 0.86, 0.87, 0.88, 0.89]},\n",
       "             scoring='neg_root_mean_squared_error')"
      ]
     },
     "execution_count": 241,
     "metadata": {},
     "output_type": "execute_result"
    }
   ],
   "source": [
    "param_test1 = {\n",
    "   #'max_depth': range(1,20,2),\n",
    "    #'min_child_weight': range(1,20,2)\n",
    "   # 'max_depth': range(3,7,1),\n",
    "   #'min_child_weight': range(1,3,1)\n",
    "  # 'gamma':[i/10.0 for i in range(0,10)]\n",
    "  #'subsample':[i/10.0 for i in range(0,10,1)],\n",
    "  #'colsample_bytree':[i/10.0 for i in range(0,10,1)]\n",
    "  'subsample':[i/100.0 for i in range(70,90,1)],\n",
    "  'colsample_bytree':[i/100.0 for i in range(50,70,1)]\n",
    "}\n",
    "gsearch1 = GridSearchCV(estimator = xgb1,\n",
    "                        param_grid = param_test1, \n",
    "                        scoring=\"neg_root_mean_squared_error\",n_jobs=4, cv=5)\n",
    "gsearch1.fit(X,y)\n"
   ]
  },
  {
   "cell_type": "code",
   "execution_count": 213,
   "id": "29154806",
   "metadata": {},
   "outputs": [],
   "source": [
    "#gsearch1.grid_scores_, ,     gsearch1.best_score_"
   ]
  },
  {
   "cell_type": "code",
   "execution_count": 243,
   "id": "9db86f29",
   "metadata": {},
   "outputs": [
    {
     "data": {
      "text/plain": [
       "{'colsample_bytree': 0.63, 'subsample': 0.79}"
      ]
     },
     "execution_count": 243,
     "metadata": {},
     "output_type": "execute_result"
    }
   ],
   "source": [
    "gsearch1.best_params_"
   ]
  },
  {
   "cell_type": "code",
   "execution_count": 261,
   "id": "7eb34587",
   "metadata": {},
   "outputs": [
    {
     "data": {
      "text/plain": [
       "XGBRegressor(base_score=0.5, booster='gbtree', colsample_bylevel=1,\n",
       "             colsample_bynode=1, colsample_bytree=0.81,\n",
       "             enable_categorical=False, gamma=0, gpu_id=-1, importance_type=None,\n",
       "             interaction_constraints='', learning_rate=0.01, max_delta_step=0,\n",
       "             max_depth=5, min_child_weight=0, missing=nan,\n",
       "             monotone_constraints='()', n_estimators=1552, n_jobs=4, nthread=4,\n",
       "             num_parallel_tree=1, predictor='auto', random_state=42,\n",
       "             reg_alpha=0, reg_lambda=1, scale_pos_weight=1, seed=42,\n",
       "             subsample=0.65, tree_method='exact', validate_parameters=1,\n",
       "             verbosity=None)"
      ]
     },
     "execution_count": 261,
     "metadata": {},
     "output_type": "execute_result"
    }
   ],
   "source": [
    "#xgb1.fit(train.iloc[:,:-1], train['target'],eval_metric='')\n",
    "#xgb1.fit(X, predictions,eval_metric=\"rmse\")\n",
    "xgb1.fit(X, y,eval_metric=\"rmse\")"
   ]
  },
  {
   "cell_type": "code",
   "execution_count": 262,
   "id": "2581ea7b",
   "metadata": {},
   "outputs": [],
   "source": [
    "#predictions = xgb1.predict(X)\n",
    "\n",
    "predictions = xgb1.predict(test_X)"
   ]
  },
  {
   "cell_type": "code",
   "execution_count": 253,
   "id": "9ed2c4fc",
   "metadata": {},
   "outputs": [
    {
     "data": {
      "text/plain": [
       "5500"
      ]
     },
     "execution_count": 253,
     "metadata": {},
     "output_type": "execute_result"
    }
   ],
   "source": [
    "len(predictions)"
   ]
  },
  {
   "cell_type": "code",
   "execution_count": 254,
   "id": "19754d5e",
   "metadata": {},
   "outputs": [
    {
     "data": {
      "text/plain": [
       "array([0.00000000e+00, 0.00000000e+00, 0.00000000e+00, 0.00000000e+00,\n",
       "       0.00000000e+00, 9.79971082e-05, 2.44752108e-03, 2.88232975e-03,\n",
       "       2.91554211e-03, 2.98969238e-03, 3.01296706e-03, 3.08905239e-03,\n",
       "       3.81365372e-03, 3.86359729e-03, 3.95166269e-03, 4.63251770e-03,\n",
       "       4.68206592e-03, 4.71091829e-03, 4.93689859e-03, 6.65670820e-03,\n",
       "       7.48496829e-03, 1.06296260e-02, 1.06531298e-02, 1.43850865e-02,\n",
       "       1.65704675e-02, 1.93944424e-02, 2.32124198e-02, 2.43714470e-02,\n",
       "       2.68926658e-02, 2.70395782e-02, 3.11921779e-02, 4.48739901e-02,\n",
       "       4.67149392e-02, 5.18358164e-02, 5.67616150e-02, 6.84783831e-02,\n",
       "       7.18042031e-02, 1.00716554e-01, 1.45935431e-01, 1.46369919e-01],\n",
       "      dtype=float32)"
      ]
     },
     "execution_count": 254,
     "metadata": {},
     "output_type": "execute_result"
    }
   ],
   "source": [
    "a = xgb1.feature_importances_\n",
    "np.save('a.npy',a)\n",
    "np.sort(a)"
   ]
  },
  {
   "cell_type": "code",
   "execution_count": 255,
   "id": "3036069f",
   "metadata": {},
   "outputs": [],
   "source": [
    "#dtrain_predprob = xgb1.predict_proba(train.iloc[:,:-1])[:,1]"
   ]
  },
  {
   "cell_type": "code",
   "execution_count": 258,
   "id": "0b12bb96",
   "metadata": {},
   "outputs": [],
   "source": [
    "from sklearn.metrics import mean_squared_error\n",
    "rms = mean_squared_error(pcatrainy,predictions )"
   ]
  },
  {
   "cell_type": "code",
   "execution_count": 125,
   "id": "e5fc226a",
   "metadata": {},
   "outputs": [
    {
     "data": {
      "text/plain": [
       "0.011199799570346182"
      ]
     },
     "execution_count": 125,
     "metadata": {},
     "output_type": "execute_result"
    }
   ],
   "source": [
    "rms"
   ]
  },
  {
   "cell_type": "code",
   "execution_count": 263,
   "id": "9f42e92d",
   "metadata": {},
   "outputs": [],
   "source": [
    "save(predictions)"
   ]
  },
  {
   "cell_type": "code",
   "execution_count": 235,
   "id": "c9daa141",
   "metadata": {},
   "outputs": [
    {
     "data": {
      "text/plain": [
       "5500"
      ]
     },
     "execution_count": 235,
     "metadata": {},
     "output_type": "execute_result"
    }
   ],
   "source": [
    "len(predictions)"
   ]
  },
  {
   "cell_type": "code",
   "execution_count": 163,
   "id": "4ed84583",
   "metadata": {},
   "outputs": [
    {
     "data": {
      "text/html": [
       "<div>\n",
       "<style scoped>\n",
       "    .dataframe tbody tr th:only-of-type {\n",
       "        vertical-align: middle;\n",
       "    }\n",
       "\n",
       "    .dataframe tbody tr th {\n",
       "        vertical-align: top;\n",
       "    }\n",
       "\n",
       "    .dataframe thead th {\n",
       "        text-align: right;\n",
       "    }\n",
       "</style>\n",
       "<table border=\"1\" class=\"dataframe\">\n",
       "  <thead>\n",
       "    <tr style=\"text-align: right;\">\n",
       "      <th></th>\n",
       "      <th>Id</th>\n",
       "      <th>target</th>\n",
       "    </tr>\n",
       "  </thead>\n",
       "  <tbody>\n",
       "    <tr>\n",
       "      <th>0</th>\n",
       "      <td>1</td>\n",
       "      <td>1.513356</td>\n",
       "    </tr>\n",
       "    <tr>\n",
       "      <th>1</th>\n",
       "      <td>2</td>\n",
       "      <td>0.504485</td>\n",
       "    </tr>\n",
       "    <tr>\n",
       "      <th>2</th>\n",
       "      <td>3</td>\n",
       "      <td>0.562333</td>\n",
       "    </tr>\n",
       "    <tr>\n",
       "      <th>3</th>\n",
       "      <td>4</td>\n",
       "      <td>0.680930</td>\n",
       "    </tr>\n",
       "    <tr>\n",
       "      <th>4</th>\n",
       "      <td>5</td>\n",
       "      <td>1.241933</td>\n",
       "    </tr>\n",
       "    <tr>\n",
       "      <th>...</th>\n",
       "      <td>...</td>\n",
       "      <td>...</td>\n",
       "    </tr>\n",
       "    <tr>\n",
       "      <th>5495</th>\n",
       "      <td>5496</td>\n",
       "      <td>0.666880</td>\n",
       "    </tr>\n",
       "    <tr>\n",
       "      <th>5496</th>\n",
       "      <td>5497</td>\n",
       "      <td>0.756311</td>\n",
       "    </tr>\n",
       "    <tr>\n",
       "      <th>5497</th>\n",
       "      <td>5498</td>\n",
       "      <td>0.668043</td>\n",
       "    </tr>\n",
       "    <tr>\n",
       "      <th>5498</th>\n",
       "      <td>5499</td>\n",
       "      <td>0.885343</td>\n",
       "    </tr>\n",
       "    <tr>\n",
       "      <th>5499</th>\n",
       "      <td>5500</td>\n",
       "      <td>0.677177</td>\n",
       "    </tr>\n",
       "  </tbody>\n",
       "</table>\n",
       "<p>5500 rows × 2 columns</p>\n",
       "</div>"
      ],
      "text/plain": [
       "        Id    target\n",
       "0        1  1.513356\n",
       "1        2  0.504485\n",
       "2        3  0.562333\n",
       "3        4  0.680930\n",
       "4        5  1.241933\n",
       "...    ...       ...\n",
       "5495  5496  0.666880\n",
       "5496  5497  0.756311\n",
       "5497  5498  0.668043\n",
       "5498  5499  0.885343\n",
       "5499  5500  0.677177\n",
       "\n",
       "[5500 rows x 2 columns]"
      ]
     },
     "execution_count": 163,
     "metadata": {},
     "output_type": "execute_result"
    }
   ],
   "source": [
    "bg = pd.read_csv(\"pred9.csv\")\n",
    "bg"
   ]
  },
  {
   "cell_type": "code",
   "execution_count": null,
   "id": "e753f7e8",
   "metadata": {},
   "outputs": [],
   "source": []
  }
 ],
 "metadata": {
  "kernelspec": {
   "display_name": "Python 3 (ipykernel)",
   "language": "python",
   "name": "python3"
  },
  "language_info": {
   "codemirror_mode": {
    "name": "ipython",
    "version": 3
   },
   "file_extension": ".py",
   "mimetype": "text/x-python",
   "name": "python",
   "nbconvert_exporter": "python",
   "pygments_lexer": "ipython3",
   "version": "3.9.7"
  }
 },
 "nbformat": 4,
 "nbformat_minor": 5
}
